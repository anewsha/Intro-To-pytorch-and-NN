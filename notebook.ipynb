{
 "cells": [
  {
   "cell_type": "markdown",
   "id": "367ce5ab",
   "metadata": {},
   "source": [
    "# Import Libraries\n",
    "\n",
    "Import PyTorch, pandas, NumPy, and scikit-learn. (Or feel free to import them as needed in the cells below.)"
   ]
  },
  {
   "cell_type": "code",
   "execution_count": 6,
   "id": "d8c95d6c",
   "metadata": {},
   "outputs": [],
   "source": [
    "import pandas as pd\n",
    "import numpy as np \n",
    "import torch"
   ]
  },
  {
   "cell_type": "markdown",
   "id": "71be6bba",
   "metadata": {},
   "source": [
    "# Import Data\n",
    "\n",
    "Import the `streeteasy.csv` dataset and preview the first few rows."
   ]
  },
  {
   "cell_type": "code",
   "execution_count": 5,
   "id": "ccccea34",
   "metadata": {},
   "outputs": [
    {
     "data": {
      "text/html": [
       "<div>\n",
       "<style scoped>\n",
       "    .dataframe tbody tr th:only-of-type {\n",
       "        vertical-align: middle;\n",
       "    }\n",
       "\n",
       "    .dataframe tbody tr th {\n",
       "        vertical-align: top;\n",
       "    }\n",
       "\n",
       "    .dataframe thead th {\n",
       "        text-align: right;\n",
       "    }\n",
       "</style>\n",
       "<table border=\"1\" class=\"dataframe\">\n",
       "  <thead>\n",
       "    <tr style=\"text-align: right;\">\n",
       "      <th></th>\n",
       "      <th>rent</th>\n",
       "      <th>size_sqft</th>\n",
       "      <th>building_age_yrs</th>\n",
       "    </tr>\n",
       "  </thead>\n",
       "  <tbody>\n",
       "    <tr>\n",
       "      <th>0</th>\n",
       "      <td>2550</td>\n",
       "      <td>480</td>\n",
       "      <td>17</td>\n",
       "    </tr>\n",
       "    <tr>\n",
       "      <th>1</th>\n",
       "      <td>11500</td>\n",
       "      <td>2000</td>\n",
       "      <td>96</td>\n",
       "    </tr>\n",
       "    <tr>\n",
       "      <th>2</th>\n",
       "      <td>3000</td>\n",
       "      <td>1000</td>\n",
       "      <td>106</td>\n",
       "    </tr>\n",
       "    <tr>\n",
       "      <th>3</th>\n",
       "      <td>4500</td>\n",
       "      <td>916</td>\n",
       "      <td>29</td>\n",
       "    </tr>\n",
       "    <tr>\n",
       "      <th>4</th>\n",
       "      <td>4795</td>\n",
       "      <td>975</td>\n",
       "      <td>31</td>\n",
       "    </tr>\n",
       "  </tbody>\n",
       "</table>\n",
       "</div>"
      ],
      "text/plain": [
       "    rent  size_sqft  building_age_yrs\n",
       "0   2550        480                17\n",
       "1  11500       2000                96\n",
       "2   3000       1000               106\n",
       "3   4500        916                29\n",
       "4   4795        975                31"
      ]
     },
     "execution_count": 5,
     "metadata": {},
     "output_type": "execute_result"
    }
   ],
   "source": [
    "df = pd.read_csv('streeteasy.csv')\n",
    "df = df[['rent','size_sqft','building_age_yrs']]\n",
    "df.head()"
   ]
  },
  {
   "cell_type": "markdown",
   "id": "382897af",
   "metadata": {},
   "source": [
    "# Select Target\n",
    "\n",
    "Select the numeric column that the neural network will be trying to predict. Feel free to use rent again, or try to predict another column!\n",
    "\n",
    "Convert this column to a PyTorch tensor."
   ]
  },
  {
   "cell_type": "code",
   "execution_count": 11,
   "id": "a8543760",
   "metadata": {},
   "outputs": [],
   "source": [
    "\n",
    "y = torch.tensor(df[['rent']].values,dtype = torch.float)"
   ]
  },
  {
   "cell_type": "markdown",
   "id": "427b8afb",
   "metadata": {},
   "source": [
    "# Select Features\n",
    "\n",
    "Select the numeric columns that the neural network will use as input features to predict the target."
   ]
  },
  {
   "cell_type": "code",
   "execution_count": 12,
   "id": "6f12c738",
   "metadata": {},
   "outputs": [],
   "source": [
    "X = torch.tensor(df[['size_sqft','building_age_yrs']].values,dtype=torch.float )"
   ]
  },
  {
   "cell_type": "markdown",
   "id": "d573b58a",
   "metadata": {},
   "source": [
    "# Train-Test-Split\n",
    "\n",
    "Split the features and target into training and testing datasets. A good initial proportion is 80/20."
   ]
  },
  {
   "cell_type": "code",
   "execution_count": 13,
   "id": "a242b87c",
   "metadata": {},
   "outputs": [],
   "source": [
    "from sklearn.model_selection import train_test_split\n",
    "X_train, X_test, y_train, y_test = train_test_split(X,y,test_size=0.3, random_state=2)"
   ]
  },
  {
   "cell_type": "markdown",
   "id": "6823d7ee",
   "metadata": {},
   "source": [
    "# Create a Neural Network\n",
    "\n",
    "Create a neural network using either `Sequential` or OOP. Remember, the first `nn.Linear()` needs to match the number of input features, and the final output needs to have one node for regression."
   ]
  },
  {
   "cell_type": "code",
   "execution_count": 14,
   "id": "36ad986e",
   "metadata": {},
   "outputs": [],
   "source": [
    "import torch.nn as nn"
   ]
  },
  {
   "cell_type": "code",
   "execution_count": 37,
   "id": "ef35ef8e",
   "metadata": {},
   "outputs": [],
   "source": [
    "class NN_regression(nn.Module):\n",
    "    def __init__(self):\n",
    "        super(NN_regression,self).__init__()\n",
    "        self.layer1 = nn.Linear(2,64)\n",
    "        self.layer2 = nn.Linear(64,32)\n",
    "        self.layer3 = nn.Linear(32,16)\n",
    "        self.layer4 = nn.Linear(16,8)\n",
    "        self.layer5 = nn.Linear(8,1)\n",
    "        self.relu = nn.ReLU()\n",
    "    def forward(self, x):\n",
    "        x = self.layer1(x)\n",
    "        x = self.relu(x)\n",
    "        x = self.layer2(x)\n",
    "        x = self.relu(x)\n",
    "        x = self.layer3(x)\n",
    "        x = self.relu(x)\n",
    "        x = self.layer4(x)\n",
    "        x = self.relu(x)\n",
    "        x = self.layer5(x)\n",
    "        \n",
    "\n",
    "        return x\n",
    "    "
   ]
  },
  {
   "cell_type": "code",
   "execution_count": 38,
   "id": "f16a5241",
   "metadata": {},
   "outputs": [],
   "source": [
    "model = NN_regression()"
   ]
  },
  {
   "cell_type": "code",
   "execution_count": 39,
   "id": "28988f6e",
   "metadata": {},
   "outputs": [],
   "source": [
    "y_pred = model(X_train)"
   ]
  },
  {
   "cell_type": "markdown",
   "id": "b602ed3e",
   "metadata": {},
   "source": [
    "# Select a Loss Function\n",
    "\n",
    "Select a loss function. Feel free to use MSE again, or check out PyTorch's other [loss functions](https://pytorch.org/docs/stable/nn.html#loss-functions). A good alternate to MSE is `nn.L1Loss()`, which is the Mean Absolute Error."
   ]
  },
  {
   "cell_type": "code",
   "execution_count": 40,
   "id": "2b089e2c",
   "metadata": {},
   "outputs": [],
   "source": [
    "loss = nn.L1Loss()\n"
   ]
  },
  {
   "cell_type": "markdown",
   "id": "1c8cc7a8",
   "metadata": {},
   "source": [
    "# Select an Optimizer\n",
    "\n",
    "Select an optimizer. Feel free to use Adam again, or check out PyTorch's other [optimizers](https://pytorch.org/docs/stable/optim.html#algorithms). A good alternate to Adam is `nn.SGD`, another gradient descent algorithm (stochastic gradient descent)."
   ]
  },
  {
   "cell_type": "code",
   "execution_count": 41,
   "id": "be2fe226",
   "metadata": {},
   "outputs": [],
   "source": [
    "import torch.optim as optim\n",
    "optimizer = optim.Adam(model.parameters(),lr=0.001)"
   ]
  },
  {
   "cell_type": "markdown",
   "id": "364578af",
   "metadata": {},
   "source": [
    "# Training Loop\n",
    "\n",
    "Use your selected loss and optimizer functions to train the neural network."
   ]
  },
  {
   "cell_type": "code",
   "execution_count": 42,
   "id": "6ee7bd19",
   "metadata": {},
   "outputs": [
    {
     "name": "stdout",
     "output_type": "stream",
     "text": [
      "100 epoch, loss = 1256.8524169921875\n",
      "200 epoch, loss = 1159.7410888671875\n",
      "300 epoch, loss = 1146.5933837890625\n",
      "400 epoch, loss = 1133.9881591796875\n",
      "500 epoch, loss = 1121.595703125\n",
      "600 epoch, loss = 1109.533203125\n",
      "700 epoch, loss = 1100.21826171875\n",
      "800 epoch, loss = 1094.9830322265625\n",
      "900 epoch, loss = 1091.3138427734375\n",
      "1000 epoch, loss = 1088.5487060546875\n"
     ]
    }
   ],
   "source": [
    "epoch = 1000\n",
    "for i in range(1,epoch+1):\n",
    "    y_pred = model(X_train)\n",
    "    MAE = loss(y_pred,y_train)\n",
    "    MAE.backward()\n",
    "    optimizer.step()\n",
    "    optimizer.zero_grad()\n",
    "\n",
    "    if i%100 ==0:\n",
    "        print(f\"{i} epoch, loss = {MAE.item()}\")"
   ]
  },
  {
   "cell_type": "markdown",
   "id": "3d17af29",
   "metadata": {},
   "source": [
    "# Experiment\n",
    "\n",
    "Go back and experiment with changing the setup of your neural network. Can you improve its performance using different activation functions or network architecture? What about adjusting the learning rate or switching out loss functions and optimizers?"
   ]
  },
  {
   "cell_type": "markdown",
   "id": "fb554b4f",
   "metadata": {},
   "source": [
    "# Evaluate\n",
    "\n",
    "As you experiment, evaluate each version of your model on the testing dataset, to validate its performance on unseen data."
   ]
  },
  {
   "cell_type": "code",
   "execution_count": 44,
   "id": "0777278b",
   "metadata": {},
   "outputs": [
    {
     "name": "stdout",
     "output_type": "stream",
     "text": [
      "Test MSE is 1068.4337158203125\n",
      "Test Root MSE is 32.68690434746479\n"
     ]
    }
   ],
   "source": [
    "model.eval()\n",
    "with torch.no_grad():\n",
    "    preds = model(X_test)\n",
    "    test_MSE = loss(preds,y_test)\n",
    "print('Test MSE is ' + str(test_MSE.item()))\n",
    "print('Test Root MSE is ' + str(test_MSE.item()**(1/2)))"
   ]
  },
  {
   "cell_type": "markdown",
   "id": "70450869",
   "metadata": {},
   "source": [
    "# Save the Final Network\n",
    "\n",
    "Save your final network for later use."
   ]
  },
  {
   "cell_type": "code",
   "execution_count": 45,
   "id": "1e49471a",
   "metadata": {},
   "outputs": [],
   "source": [
    "torch.save(model, 'model1.pth')"
   ]
  },
  {
   "cell_type": "markdown",
   "id": "d4bd5019",
   "metadata": {},
   "source": [
    "# Share Results\n",
    "\n",
    "Share your network's performance and how you got there! Create a GitHub repo, or post in the Codecademy forums/discord."
   ]
  },
  {
   "cell_type": "code",
   "execution_count": 53,
   "id": "390c5eae",
   "metadata": {},
   "outputs": [],
   "source": [
    "A1 = np.array([['Name','Age','roll num'],['Anusha',21,'21bml0056'],['Madhu',45,'21bee3218'],['rohan',22,'21bec2142']])"
   ]
  },
  {
   "cell_type": "code",
   "execution_count": 54,
   "id": "2c5efb65",
   "metadata": {},
   "outputs": [],
   "source": [
    "A1 = pd.DataFrame(A1[1:],columns=A1[0] )"
   ]
  },
  {
   "cell_type": "code",
   "execution_count": 55,
   "id": "57d8aa61",
   "metadata": {},
   "outputs": [
    {
     "data": {
      "text/html": [
       "<div>\n",
       "<style scoped>\n",
       "    .dataframe tbody tr th:only-of-type {\n",
       "        vertical-align: middle;\n",
       "    }\n",
       "\n",
       "    .dataframe tbody tr th {\n",
       "        vertical-align: top;\n",
       "    }\n",
       "\n",
       "    .dataframe thead th {\n",
       "        text-align: right;\n",
       "    }\n",
       "</style>\n",
       "<table border=\"1\" class=\"dataframe\">\n",
       "  <thead>\n",
       "    <tr style=\"text-align: right;\">\n",
       "      <th></th>\n",
       "      <th>Name</th>\n",
       "      <th>Age</th>\n",
       "      <th>roll num</th>\n",
       "    </tr>\n",
       "  </thead>\n",
       "  <tbody>\n",
       "    <tr>\n",
       "      <th>0</th>\n",
       "      <td>Anusha</td>\n",
       "      <td>21</td>\n",
       "      <td>21bml0056</td>\n",
       "    </tr>\n",
       "    <tr>\n",
       "      <th>1</th>\n",
       "      <td>Madhu</td>\n",
       "      <td>45</td>\n",
       "      <td>21bee3218</td>\n",
       "    </tr>\n",
       "    <tr>\n",
       "      <th>2</th>\n",
       "      <td>rohan</td>\n",
       "      <td>22</td>\n",
       "      <td>21bec2142</td>\n",
       "    </tr>\n",
       "  </tbody>\n",
       "</table>\n",
       "</div>"
      ],
      "text/plain": [
       "     Name Age   roll num\n",
       "0  Anusha  21  21bml0056\n",
       "1   Madhu  45  21bee3218\n",
       "2   rohan  22  21bec2142"
      ]
     },
     "execution_count": 55,
     "metadata": {},
     "output_type": "execute_result"
    }
   ],
   "source": [
    "A1"
   ]
  },
  {
   "cell_type": "code",
   "execution_count": null,
   "id": "dd7b0da6",
   "metadata": {},
   "outputs": [],
   "source": [
    "A2 = np.array([['Age','roll num']])"
   ]
  }
 ],
 "metadata": {
  "kernelspec": {
   "display_name": "Python 3 (ipykernel)",
   "language": "python",
   "name": "python3"
  },
  "language_info": {
   "codemirror_mode": {
    "name": "ipython",
    "version": 3
   },
   "file_extension": ".py",
   "mimetype": "text/x-python",
   "name": "python",
   "nbconvert_exporter": "python",
   "pygments_lexer": "ipython3",
   "version": "3.12.3"
  }
 },
 "nbformat": 4,
 "nbformat_minor": 5
}
